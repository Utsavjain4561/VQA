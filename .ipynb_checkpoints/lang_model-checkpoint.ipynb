{
 "cells": [
  {
   "cell_type": "code",
   "execution_count": 7,
   "metadata": {},
   "outputs": [],
   "source": [
    "import json\n",
    "from numpy import array\n",
    "from keras.preprocessing.text import one_hot\n",
    "from keras.preprocessing.sequence import pad_sequences\n",
    "from keras.models import Sequential\n",
    "from keras.layers import Dense\n",
    "from keras.layers import Flatten\n",
    "from keras.layers.embeddings import Embedding\n"
   ]
  },
  {
   "cell_type": "code",
   "execution_count": 2,
   "metadata": {},
   "outputs": [],
   "source": [
    "vqa_train = json.load(open('C:/VQA/data/vqa_train.json'))\n",
    "questions =[]\n",
    "answers =[]\n",
    "\n",
    "for i in range(len(vqa_train)):\n",
    "    questions.append(vqa_train[i]['question'][:-1])\n",
    "    answers.append(vqa_train[i]['ans'])\n"
   ]
  },
  {
   "cell_type": "code",
   "execution_count": 3,
   "metadata": {},
   "outputs": [],
   "source": [
    "vocab=[]\n",
    "from nltk.tokenize import word_tokenize\n",
    "for que in questions:\n",
    "    tokenize_word = word_tokenize(que)\n",
    "    for word in tokenize_word:\n",
    "        vocab.append(word)\n",
    "for ans in answers:\n",
    "    tokenize_word = word_tokenize(ans)\n",
    "    for word in tokenize_word:\n",
    "        vocab.append(word)\n",
    "\n",
    "        "
   ]
  },
  {
   "cell_type": "code",
   "execution_count": 4,
   "metadata": {},
   "outputs": [],
   "source": [
    "vocab = set(vocab)\n",
    "vocab_len = len(vocab)"
   ]
  },
  {
   "cell_type": "code",
   "execution_count": 6,
   "metadata": {},
   "outputs": [
    {
     "name": "stdout",
     "output_type": "stream",
     "text": [
      "[940, 20011, 14480, 212, 14677, 3022, 3106]\n",
      "[940, 18050, 20011, 14480, 19495, 8078]\n",
      "[8587]\n",
      "[13726]\n"
     ]
    }
   ],
   "source": [
    "embedded_questions = [one_hot(ques,vocab_len) for ques in questions]\n",
    "print(embedded_questions[0])\n",
    "print(embedded_questions[1])\n",
    "\n",
    "\n",
    "embedded_ans = [one_hot(ans,vocab_len) for ans in answers]\n",
    "print(embedded_ans[0])\n",
    "print(embedded_ans[1])\n"
   ]
  },
  {
   "cell_type": "code",
   "execution_count": 8,
   "metadata": {},
   "outputs": [
    {
     "name": "stdout",
     "output_type": "stream",
     "text": [
      "Longest sentence =24\n"
     ]
    }
   ],
   "source": [
    "word_count = lambda sentence: len(word_tokenize(sentence))\n",
    "longest_sentence = max(questions, key=word_count)\n",
    "length_long_sentence = len(word_tokenize(longest_sentence))\n",
    "print('Longest sentence ='+str(length_long_sentence))"
   ]
  },
  {
   "cell_type": "code",
   "execution_count": 10,
   "metadata": {},
   "outputs": [
    {
     "name": "stdout",
     "output_type": "stream",
     "text": [
      "[[  940 20011 14480 ...     0     0     0]\n",
      " [  940 18050 20011 ...     0     0     0]\n",
      " [  940 18826 20011 ...     0     0     0]\n",
      " ...\n",
      " [  940 18826 20011 ...     0     0     0]\n",
      " [12461 19266 17762 ...     0     0     0]\n",
      " [20011  2635  2881 ...     0     0     0]]\n"
     ]
    }
   ],
   "source": [
    "padded_questions = pad_sequences(embedded_questions, length_long_sentence, padding='post')\n",
    "print(padded_questions)"
   ]
  },
  {
   "cell_type": "code",
   "execution_count": 14,
   "metadata": {},
   "outputs": [
    {
     "name": "stdout",
     "output_type": "stream",
     "text": [
      "[list([8587]) list([13726]) list([13389]) list([3687]) list([19019])\n",
      " list([5473]) list([13258]) list([3767]) list([3687]) list([3767])]\n"
     ]
    }
   ],
   "source": [
    "print(embedded_ans[:10])"
   ]
  },
  {
   "cell_type": "code",
   "execution_count": null,
   "metadata": {},
   "outputs": [],
   "source": []
  }
 ],
 "metadata": {
  "kernelspec": {
   "display_name": "venv",
   "language": "python",
   "name": "venv"
  },
  "language_info": {
   "codemirror_mode": {
    "name": "ipython",
    "version": 3
   },
   "file_extension": ".py",
   "mimetype": "text/x-python",
   "name": "python",
   "nbconvert_exporter": "python",
   "pygments_lexer": "ipython3",
   "version": "3.6.1"
  }
 },
 "nbformat": 4,
 "nbformat_minor": 2
}
